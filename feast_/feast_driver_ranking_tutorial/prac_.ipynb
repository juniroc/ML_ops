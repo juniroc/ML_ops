{
 "cells": [
  {
   "cell_type": "markdown",
   "metadata": {
    "id": "qa-41097T0vH"
   },
   "source": [
    "### Overview\n",
    "Making a prediction using a linear regression model is a common use case in ML. In this guide tutorial, we build the model that predicts if a driver will complete a trip based on a number of features ingested into Feast.\n",
    "\n",
    "The basic local mode gives you ability to quickly try Feast, while the advanced mode shows how you can use Feast in a production setting, in particular for the Google Cloud Platform (GCP) cloud.\n",
    "\n",
    "This tutorial uses Feast with scikit learn to:\n",
    "\n",
    "* Train a model locally using data from BigQuery\n",
    "* Test the model for online inference using SQLite (for fast iteration)\n",
    "* Test the model for online inference using Firestore (to represent production)\n",
    " "
   ]
  },
  {
   "cell_type": "markdown",
   "metadata": {
    "id": "j1Qipu_GUYdA"
   },
   "source": [
    "## Step 1: Install feast, scikit-learn\n",
    "\n",
    "Install feast, gcp dependencies and scikit-learn\n"
   ]
  },
  {
   "cell_type": "code",
   "execution_count": 175,
   "metadata": {
    "colab": {
     "base_uri": "https://localhost:8080/"
    },
    "id": "gxuVxKG3Ua6z",
    "outputId": "1b81065b-bceb-4a10-ad95-1cc68ed86d38"
   },
   "outputs": [
    {
     "name": "stdout",
     "output_type": "stream",
     "text": [
      "Requirement already satisfied: feast in /usr/local/lib/python3.7/dist-packages (0.12.0)\n",
      "Requirement already satisfied: scikit-learn in /usr/local/lib/python3.7/dist-packages (0.22.2.post1)\n",
      "Requirement already satisfied: parquet-cli in /usr/local/lib/python3.7/dist-packages (1.3)\n",
      "Requirement already satisfied: grpcio>=1.34.0 in /usr/local/lib/python3.7/dist-packages (from feast) (1.34.1)\n",
      "Requirement already satisfied: pandas>=1.0.0 in /usr/local/lib/python3.7/dist-packages (from feast) (1.1.5)\n",
      "Requirement already satisfied: Jinja2>=2.0.0 in /usr/local/lib/python3.7/dist-packages (from feast) (2.11.3)\n",
      "Requirement already satisfied: jsonschema in /usr/local/lib/python3.7/dist-packages (from feast) (2.6.0)\n",
      "Requirement already satisfied: tqdm==4.* in /usr/local/lib/python3.7/dist-packages (from feast) (4.62.0)\n",
      "Requirement already satisfied: tenacity>=7.* in /usr/local/lib/python3.7/dist-packages (from feast) (8.0.1)\n",
      "Requirement already satisfied: pandavro==1.5.* in /usr/local/lib/python3.7/dist-packages (from feast) (1.5.2)\n",
      "Requirement already satisfied: pydantic>=1.0.0 in /usr/local/lib/python3.7/dist-packages (from feast) (1.8.2)\n",
      "Requirement already satisfied: googleapis-common-protos==1.52.* in /usr/local/lib/python3.7/dist-packages (from feast) (1.52.0)\n",
      "Requirement already satisfied: mmh3 in /usr/local/lib/python3.7/dist-packages (from feast) (3.0.0)\n",
      "Requirement already satisfied: toml==0.10.* in /usr/local/lib/python3.7/dist-packages (from feast) (0.10.2)\n",
      "Requirement already satisfied: protobuf>=3.10 in /usr/local/lib/python3.7/dist-packages (from feast) (3.17.3)\n",
      "Requirement already satisfied: google-api-core>=1.23.0 in /usr/local/lib/python3.7/dist-packages (from feast) (1.26.3)\n",
      "Requirement already satisfied: PyYAML>=5.4.* in /usr/local/lib/python3.7/dist-packages (from feast) (5.4.1)\n",
      "Requirement already satisfied: colorama>=0.3.9 in /usr/local/lib/python3.7/dist-packages (from feast) (0.4.4)\n",
      "Requirement already satisfied: Click==7.* in /usr/local/lib/python3.7/dist-packages (from feast) (7.1.2)\n",
      "Requirement already satisfied: pyarrow>=2.0.0 in /usr/local/lib/python3.7/dist-packages (from feast) (3.0.0)\n",
      "Requirement already satisfied: fastavro>=1.1.0 in /usr/local/lib/python3.7/dist-packages (from feast) (1.4.4)\n",
      "Requirement already satisfied: tabulate==0.8.* in /usr/local/lib/python3.7/dist-packages (from feast) (0.8.9)\n",
      "Requirement already satisfied: numpy>=1.7.0 in /usr/local/lib/python3.7/dist-packages (from pandavro==1.5.*->feast) (1.19.5)\n",
      "Requirement already satisfied: six>=1.9 in /usr/local/lib/python3.7/dist-packages (from pandavro==1.5.*->feast) (1.15.0)\n",
      "Requirement already satisfied: packaging>=14.3 in /usr/local/lib/python3.7/dist-packages (from google-api-core>=1.23.0->feast) (21.0)\n",
      "Requirement already satisfied: setuptools>=40.3.0 in /usr/local/lib/python3.7/dist-packages (from google-api-core>=1.23.0->feast) (57.4.0)\n",
      "Requirement already satisfied: requests<3.0.0dev,>=2.18.0 in /usr/local/lib/python3.7/dist-packages (from google-api-core>=1.23.0->feast) (2.23.0)\n",
      "Requirement already satisfied: pytz in /usr/local/lib/python3.7/dist-packages (from google-api-core>=1.23.0->feast) (2018.9)\n",
      "Requirement already satisfied: google-auth<2.0dev,>=1.21.1 in /usr/local/lib/python3.7/dist-packages (from google-api-core>=1.23.0->feast) (1.34.0)\n",
      "Requirement already satisfied: rsa<5,>=3.1.4 in /usr/local/lib/python3.7/dist-packages (from google-auth<2.0dev,>=1.21.1->google-api-core>=1.23.0->feast) (4.7.2)\n",
      "Requirement already satisfied: cachetools<5.0,>=2.0.0 in /usr/local/lib/python3.7/dist-packages (from google-auth<2.0dev,>=1.21.1->google-api-core>=1.23.0->feast) (4.2.2)\n",
      "Requirement already satisfied: pyasn1-modules>=0.2.1 in /usr/local/lib/python3.7/dist-packages (from google-auth<2.0dev,>=1.21.1->google-api-core>=1.23.0->feast) (0.2.8)\n",
      "Requirement already satisfied: MarkupSafe>=0.23 in /usr/local/lib/python3.7/dist-packages (from Jinja2>=2.0.0->feast) (2.0.1)\n",
      "Requirement already satisfied: pyparsing>=2.0.2 in /usr/local/lib/python3.7/dist-packages (from packaging>=14.3->google-api-core>=1.23.0->feast) (2.4.7)\n",
      "Requirement already satisfied: python-dateutil>=2.7.3 in /usr/local/lib/python3.7/dist-packages (from pandas>=1.0.0->feast) (2.8.2)\n",
      "Requirement already satisfied: pyasn1<0.5.0,>=0.4.6 in /usr/local/lib/python3.7/dist-packages (from pyasn1-modules>=0.2.1->google-auth<2.0dev,>=1.21.1->google-api-core>=1.23.0->feast) (0.4.8)\n",
      "Requirement already satisfied: typing-extensions>=3.7.4.3 in /usr/local/lib/python3.7/dist-packages (from pydantic>=1.0.0->feast) (3.7.4.3)\n",
      "Requirement already satisfied: idna<3,>=2.5 in /usr/local/lib/python3.7/dist-packages (from requests<3.0.0dev,>=2.18.0->google-api-core>=1.23.0->feast) (2.10)\n",
      "Requirement already satisfied: certifi>=2017.4.17 in /usr/local/lib/python3.7/dist-packages (from requests<3.0.0dev,>=2.18.0->google-api-core>=1.23.0->feast) (2021.5.30)\n",
      "Requirement already satisfied: urllib3!=1.25.0,!=1.25.1,<1.26,>=1.21.1 in /usr/local/lib/python3.7/dist-packages (from requests<3.0.0dev,>=2.18.0->google-api-core>=1.23.0->feast) (1.24.3)\n",
      "Requirement already satisfied: chardet<4,>=3.0.2 in /usr/local/lib/python3.7/dist-packages (from requests<3.0.0dev,>=2.18.0->google-api-core>=1.23.0->feast) (3.0.4)\n",
      "Requirement already satisfied: joblib>=0.11 in /usr/local/lib/python3.7/dist-packages (from scikit-learn) (1.0.1)\n",
      "Requirement already satisfied: scipy>=0.17.0 in /usr/local/lib/python3.7/dist-packages (from scikit-learn) (1.4.1)\n"
     ]
    }
   ],
   "source": [
    "!pip install feast scikit-learn parquet-cli"
   ]
  },
  {
   "cell_type": "markdown",
   "metadata": {
    "id": "P8pFSVUp34W5"
   },
   "source": [
    "#### Check feast version"
   ]
  },
  {
   "cell_type": "markdown",
   "metadata": {
    "id": "soTYiMPXcNco"
   },
   "source": []
  },
  {
   "cell_type": "code",
   "execution_count": 178,
   "metadata": {
    "colab": {
     "base_uri": "https://localhost:8080/"
    },
    "id": "cOSAfdZiUnFa",
    "outputId": "eb97605a-2118-4e62-f092-e21c2839225b"
   },
   "outputs": [
    {
     "name": "stdout",
     "output_type": "stream",
     "text": [
      "Feast SDK Version: \"feast 0.12.0\"\n"
     ]
    }
   ],
   "source": [
    "!feast version "
   ]
  },
  {
   "cell_type": "markdown",
   "metadata": {
    "id": "pC4AzJ_b396l"
   },
   "source": [
    "## Step 2: Feast Init\n",
    "\n",
    "* Init Feast Repository"
   ]
  },
  {
   "cell_type": "code",
   "execution_count": 188,
   "metadata": {
    "colab": {
     "base_uri": "https://localhost:8080/"
    },
    "id": "ewBCngitjmpD",
    "outputId": "9a83179a-e92b-465e-9ed2-1ae6c8c7f481"
   },
   "outputs": [
    {
     "data": {
      "text/plain": []
     },
     "execution_count": 188,
     "metadata": {
      "tags": []
     },
     "output_type": "execute_result"
    }
   ],
   "source": [
    "%%shell\n",
    "cd /content\n",
    "feast init feast_driver_ranking_tutorial"
   ]
  },
  {
   "cell_type": "markdown",
   "metadata": {
    "id": "ohWMCVhS5PPN"
   },
   "source": [
    "## Step 4: Apply and deploy feature definitions\n",
    "\n",
    "`feast apply` scans python files in the current directory for feature definitions and deploys infrastructure according to `feature_store.yaml`"
   ]
  },
  {
   "cell_type": "code",
   "execution_count": 180,
   "metadata": {
    "colab": {
     "base_uri": "https://localhost:8080/"
    },
    "id": "izhTk0WWX3Tx",
    "outputId": "18f8bbf7-a0fd-485a-b608-09c2e53ffbd4"
   },
   "outputs": [
    {
     "name": "stdout",
     "output_type": "stream",
     "text": [
      "Registered entity \u001b[1m\u001b[32mdriver_id\u001b[0m\n",
      "Registered feature view \u001b[1m\u001b[32mdriver_hourly_stats\u001b[0m\n",
      "Deploying infrastructure for \u001b[1m\u001b[32mdriver_hourly_stats\u001b[0m\n"
     ]
    },
    {
     "data": {
      "text/plain": []
     },
     "execution_count": 180,
     "metadata": {
      "tags": []
     },
     "output_type": "execute_result"
    }
   ],
   "source": [
    "%%shell\n",
    "cd /content/feast_driver_ranking_tutorial\n",
    "feast apply"
   ]
  },
  {
   "cell_type": "markdown",
   "metadata": {
    "id": "lJlrf2Iu53BR"
   },
   "source": [
    "### Inspect the files created under your local folder"
   ]
  },
  {
   "cell_type": "code",
   "execution_count": 181,
   "metadata": {
    "colab": {
     "base_uri": "https://localhost:8080/"
    },
    "id": "IrJ6gqtdmKk7",
    "outputId": "5992bac9-59c1-4f48-f20e-efe7bff703b1"
   },
   "outputs": [
    {
     "name": "stdout",
     "output_type": "stream",
     "text": [
      "total 56\n",
      "-rw-r--r-- 1 root root 34712 Aug 17 05:30 driver_stats.parquet\n",
      "-rw-r--r-- 1 root root 16384 Aug 17 07:12 online_store.db\n",
      "-rw-r--r-- 1 root root   502 Aug 17 08:55 registry.db\n"
     ]
    },
    {
     "data": {
      "text/plain": []
     },
     "execution_count": 181,
     "metadata": {
      "tags": []
     },
     "output_type": "execute_result"
    }
   ],
   "source": [
    "%%shell\n",
    "cd /content/feast_driver_ranking_tutorial/data/\n",
    "ls -l "
   ]
  },
  {
   "cell_type": "code",
   "execution_count": 182,
   "metadata": {
    "colab": {
     "base_uri": "https://localhost:8080/"
    },
    "id": "ysG7KR1skRx_",
    "outputId": "5e2c97d2-73d7-4015-ceda-f00bb668a8f1"
   },
   "outputs": [
    {
     "name": "stdout",
     "output_type": "stream",
     "text": [
      "  % Total    % Received % Xferd  Average Speed   Time    Time     Time  Current\n",
      "                                 Dload  Upload   Total   Spent    Left  Speed\n",
      "100   371  100   371    0     0   1883      0 --:--:-- --:--:-- --:--:--  1883\n",
      "data  driver_orders.csv  example.py  feature_store.yaml\n"
     ]
    },
    {
     "data": {
      "text/plain": []
     },
     "execution_count": 182,
     "metadata": {
      "tags": []
     },
     "output_type": "execute_result"
    }
   ],
   "source": [
    "%%shell\n",
    "\n",
    "curl -o /content/feast_driver_ranking_tutorial/driver_orders.csv https://raw.githubusercontent.com/feast-dev/feast-driver-ranking-tutorial/master/driver_orders.csv \n",
    "ls /content/feast_driver_ranking_tutorial/"
   ]
  },
  {
   "cell_type": "markdown",
   "metadata": {
    "id": "bHBfTEau6Qt9"
   },
   "source": [
    "## Step 5: Train your model"
   ]
  },
  {
   "cell_type": "code",
   "execution_count": 183,
   "metadata": {
    "colab": {
     "base_uri": "https://localhost:8080/"
    },
    "id": "BrZI2ZzWw7XT",
    "outputId": "df3ca50d-810c-4a5b-c0b7-9c8b0e403547"
   },
   "outputs": [
    {
     "name": "stdout",
     "output_type": "stream",
     "text": [
      "               event_timestamp  driver_id  conv_rate  acc_rate  \\\n",
      "1797 2021-08-16 22:00:00+00:00       1001   0.283306  0.311559   \n",
      "1798 2021-08-16 23:00:00+00:00       1001   0.845515  0.066000   \n",
      "1799 2021-08-17 00:00:00+00:00       1001   0.563196  0.429818   \n",
      "1800 2021-08-17 01:00:00+00:00       1001   0.570116  0.372267   \n",
      "1801 2021-08-17 02:00:00+00:00       1001   0.462844  0.833463   \n",
      "1802 2021-08-17 03:00:00+00:00       1001   0.415600  0.694797   \n",
      "1803 2021-08-17 04:00:00+00:00       1001   0.488006  0.294181   \n",
      "1804 2021-04-12 07:00:00+00:00       1001   0.593042  0.283652   \n",
      "1805 2021-08-09 17:00:00+00:00       1003   0.557066  0.894062   \n",
      "1806 2021-08-09 17:00:00+00:00       1003   0.557066  0.894062   \n",
      "\n",
      "      avg_daily_trips                 created  \n",
      "1797              977 2021-08-17 05:30:48.077  \n",
      "1798              424 2021-08-17 05:30:48.077  \n",
      "1799              357 2021-08-17 05:30:48.077  \n",
      "1800              708 2021-08-17 05:30:48.077  \n",
      "1801              531 2021-08-17 05:30:48.077  \n",
      "1802              950 2021-08-17 05:30:48.077  \n",
      "1803               69 2021-08-17 05:30:48.077  \n",
      "1804              442 2021-08-17 05:30:48.077  \n",
      "1805              713 2021-08-17 05:30:48.077  \n",
      "1806              713 2021-08-17 05:30:48.077  \n"
     ]
    },
    {
     "data": {
      "text/plain": []
     },
     "execution_count": 183,
     "metadata": {
      "tags": []
     },
     "output_type": "execute_result"
    }
   ],
   "source": [
    "%%shell\n",
    "parq ./feast_driver_ranking_tutorial/data/driver_stats.parquet --tail 10 "
   ]
  },
  {
   "cell_type": "code",
   "execution_count": 184,
   "metadata": {
    "id": "zpmeVqXBzc9s"
   },
   "outputs": [],
   "source": [
    "orders.sort_values(by=['driver_id'], inplace=True, ignore_index=True)"
   ]
  },
  {
   "cell_type": "code",
   "execution_count": 185,
   "metadata": {
    "colab": {
     "base_uri": "https://localhost:8080/",
     "height": 363
    },
    "id": "-kuInTn_0y8P",
    "outputId": "4bfbb4e2-f383-45b0-82e4-6bef0f7492ff"
   },
   "outputs": [
    {
     "data": {
      "text/html": [
       "<div>\n",
       "<style scoped>\n",
       "    .dataframe tbody tr th:only-of-type {\n",
       "        vertical-align: middle;\n",
       "    }\n",
       "\n",
       "    .dataframe tbody tr th {\n",
       "        vertical-align: top;\n",
       "    }\n",
       "\n",
       "    .dataframe thead th {\n",
       "        text-align: right;\n",
       "    }\n",
       "</style>\n",
       "<table border=\"1\" class=\"dataframe\">\n",
       "  <thead>\n",
       "    <tr style=\"text-align: right;\">\n",
       "      <th></th>\n",
       "      <th>event_timestamp</th>\n",
       "      <th>driver_id</th>\n",
       "      <th>trip_completed</th>\n",
       "    </tr>\n",
       "  </thead>\n",
       "  <tbody>\n",
       "    <tr>\n",
       "      <th>0</th>\n",
       "      <td>2021-08-02 05:00:00+00:00</td>\n",
       "      <td>1001</td>\n",
       "      <td>1</td>\n",
       "    </tr>\n",
       "    <tr>\n",
       "      <th>1</th>\n",
       "      <td>2021-08-02 06:00:00+00:00</td>\n",
       "      <td>1001</td>\n",
       "      <td>1</td>\n",
       "    </tr>\n",
       "    <tr>\n",
       "      <th>2</th>\n",
       "      <td>2021-08-02 07:00:00+00:00</td>\n",
       "      <td>1001</td>\n",
       "      <td>1</td>\n",
       "    </tr>\n",
       "    <tr>\n",
       "      <th>3</th>\n",
       "      <td>2021-08-02 05:00:00+00:00</td>\n",
       "      <td>1002</td>\n",
       "      <td>0</td>\n",
       "    </tr>\n",
       "    <tr>\n",
       "      <th>4</th>\n",
       "      <td>2021-08-02 06:00:00+00:00</td>\n",
       "      <td>1002</td>\n",
       "      <td>0</td>\n",
       "    </tr>\n",
       "    <tr>\n",
       "      <th>5</th>\n",
       "      <td>2021-08-02 07:00:00+00:00</td>\n",
       "      <td>1002</td>\n",
       "      <td>0</td>\n",
       "    </tr>\n",
       "    <tr>\n",
       "      <th>6</th>\n",
       "      <td>2021-08-02 05:00:00+00:00</td>\n",
       "      <td>1003</td>\n",
       "      <td>0</td>\n",
       "    </tr>\n",
       "    <tr>\n",
       "      <th>7</th>\n",
       "      <td>2021-08-02 06:00:00+00:00</td>\n",
       "      <td>1003</td>\n",
       "      <td>0</td>\n",
       "    </tr>\n",
       "    <tr>\n",
       "      <th>8</th>\n",
       "      <td>2021-08-02 07:00:00+00:00</td>\n",
       "      <td>1003</td>\n",
       "      <td>0</td>\n",
       "    </tr>\n",
       "    <tr>\n",
       "      <th>9</th>\n",
       "      <td>2021-08-02 05:00:00+00:00</td>\n",
       "      <td>1004</td>\n",
       "      <td>1</td>\n",
       "    </tr>\n",
       "  </tbody>\n",
       "</table>\n",
       "</div>"
      ],
      "text/plain": [
       "            event_timestamp  driver_id  trip_completed\n",
       "0 2021-08-02 05:00:00+00:00       1001               1\n",
       "1 2021-08-02 06:00:00+00:00       1001               1\n",
       "2 2021-08-02 07:00:00+00:00       1001               1\n",
       "3 2021-08-02 05:00:00+00:00       1002               0\n",
       "4 2021-08-02 06:00:00+00:00       1002               0\n",
       "5 2021-08-02 07:00:00+00:00       1002               0\n",
       "6 2021-08-02 05:00:00+00:00       1003               0\n",
       "7 2021-08-02 06:00:00+00:00       1003               0\n",
       "8 2021-08-02 07:00:00+00:00       1003               0\n",
       "9 2021-08-02 05:00:00+00:00       1004               1"
      ]
     },
     "execution_count": 185,
     "metadata": {
      "tags": []
     },
     "output_type": "execute_result"
    }
   ],
   "source": [
    "orders"
   ]
  },
  {
   "cell_type": "code",
   "execution_count": 186,
   "metadata": {
    "colab": {
     "base_uri": "https://localhost:8080/",
     "height": 363
    },
    "id": "uEirbejq1cfN",
    "outputId": "050523a8-c170-400a-f2ab-6fc645163b15"
   },
   "outputs": [
    {
     "data": {
      "text/html": [
       "<div>\n",
       "<style scoped>\n",
       "    .dataframe tbody tr th:only-of-type {\n",
       "        vertical-align: middle;\n",
       "    }\n",
       "\n",
       "    .dataframe tbody tr th {\n",
       "        vertical-align: top;\n",
       "    }\n",
       "\n",
       "    .dataframe thead th {\n",
       "        text-align: right;\n",
       "    }\n",
       "</style>\n",
       "<table border=\"1\" class=\"dataframe\">\n",
       "  <thead>\n",
       "    <tr style=\"text-align: right;\">\n",
       "      <th></th>\n",
       "      <th>event_timestamp</th>\n",
       "      <th>driver_id</th>\n",
       "      <th>trip_completed</th>\n",
       "    </tr>\n",
       "  </thead>\n",
       "  <tbody>\n",
       "    <tr>\n",
       "      <th>0</th>\n",
       "      <td>2021-08-02 05:00:00+00:00</td>\n",
       "      <td>1001</td>\n",
       "      <td>1</td>\n",
       "    </tr>\n",
       "    <tr>\n",
       "      <th>1</th>\n",
       "      <td>2021-08-02 06:00:00+00:00</td>\n",
       "      <td>1001</td>\n",
       "      <td>1</td>\n",
       "    </tr>\n",
       "    <tr>\n",
       "      <th>2</th>\n",
       "      <td>2021-08-02 07:00:00+00:00</td>\n",
       "      <td>1001</td>\n",
       "      <td>1</td>\n",
       "    </tr>\n",
       "    <tr>\n",
       "      <th>3</th>\n",
       "      <td>2021-08-02 05:00:00+00:00</td>\n",
       "      <td>1002</td>\n",
       "      <td>0</td>\n",
       "    </tr>\n",
       "    <tr>\n",
       "      <th>4</th>\n",
       "      <td>2021-08-02 06:00:00+00:00</td>\n",
       "      <td>1002</td>\n",
       "      <td>0</td>\n",
       "    </tr>\n",
       "    <tr>\n",
       "      <th>5</th>\n",
       "      <td>2021-08-02 07:00:00+00:00</td>\n",
       "      <td>1002</td>\n",
       "      <td>0</td>\n",
       "    </tr>\n",
       "    <tr>\n",
       "      <th>6</th>\n",
       "      <td>2021-08-02 05:00:00+00:00</td>\n",
       "      <td>1003</td>\n",
       "      <td>0</td>\n",
       "    </tr>\n",
       "    <tr>\n",
       "      <th>7</th>\n",
       "      <td>2021-08-02 06:00:00+00:00</td>\n",
       "      <td>1003</td>\n",
       "      <td>0</td>\n",
       "    </tr>\n",
       "    <tr>\n",
       "      <th>8</th>\n",
       "      <td>2021-08-02 07:00:00+00:00</td>\n",
       "      <td>1003</td>\n",
       "      <td>0</td>\n",
       "    </tr>\n",
       "    <tr>\n",
       "      <th>9</th>\n",
       "      <td>2021-08-02 05:00:00+00:00</td>\n",
       "      <td>1004</td>\n",
       "      <td>1</td>\n",
       "    </tr>\n",
       "  </tbody>\n",
       "</table>\n",
       "</div>"
      ],
      "text/plain": [
       "            event_timestamp  driver_id  trip_completed\n",
       "0 2021-08-02 05:00:00+00:00       1001               1\n",
       "1 2021-08-02 06:00:00+00:00       1001               1\n",
       "2 2021-08-02 07:00:00+00:00       1001               1\n",
       "3 2021-08-02 05:00:00+00:00       1002               0\n",
       "4 2021-08-02 06:00:00+00:00       1002               0\n",
       "5 2021-08-02 07:00:00+00:00       1002               0\n",
       "6 2021-08-02 05:00:00+00:00       1003               0\n",
       "7 2021-08-02 06:00:00+00:00       1003               0\n",
       "8 2021-08-02 07:00:00+00:00       1003               0\n",
       "9 2021-08-02 05:00:00+00:00       1004               1"
      ]
     },
     "execution_count": 186,
     "metadata": {
      "tags": []
     },
     "output_type": "execute_result"
    }
   ],
   "source": [
    "orders"
   ]
  },
  {
   "cell_type": "code",
   "execution_count": 187,
   "metadata": {
    "colab": {
     "base_uri": "https://localhost:8080/"
    },
    "id": "F-Pc4Jo4kzBL",
    "outputId": "0c20d0cf-09f8-45bf-ef99-020a344e2728"
   },
   "outputs": [
    {
     "name": "stdout",
     "output_type": "stream",
     "text": [
      "----- Feature schema -----\n",
      "\n",
      "<class 'pandas.core.frame.DataFrame'>\n",
      "Int64Index: 10 entries, 0 to 9\n",
      "Data columns (total 6 columns):\n",
      " #   Column           Non-Null Count  Dtype              \n",
      "---  ------           --------------  -----              \n",
      " 0   event_timestamp  10 non-null     datetime64[ns, UTC]\n",
      " 1   driver_id        10 non-null     int64              \n",
      " 2   trip_completed   10 non-null     int64              \n",
      " 3   conv_rate        10 non-null     float32            \n",
      " 4   acc_rate         10 non-null     float32            \n",
      " 5   avg_daily_trips  10 non-null     int32              \n",
      "dtypes: datetime64[ns, UTC](1), float32(2), int32(1), int64(2)\n",
      "memory usage: 440.0 bytes\n",
      "None\n",
      "\n",
      "----- Example features -----\n",
      "\n",
      "            event_timestamp  driver_id  ...  acc_rate  avg_daily_trips\n",
      "0 2021-08-02 05:00:00+00:00       1001  ...  0.925318              842\n",
      "1 2021-08-02 05:00:00+00:00       1002  ...  0.272748              699\n",
      "2 2021-08-02 05:00:00+00:00       1003  ...  0.651410              405\n",
      "3 2021-08-02 05:00:00+00:00       1004  ...  0.436958               20\n",
      "4 2021-08-02 06:00:00+00:00       1001  ...  0.200917              362\n",
      "\n",
      "[5 rows x 6 columns]\n",
      "ㅡㅡㅡㅡㅡㅡㅡㅡㅡㅡㅡㅡㅡㅡㅡㅡㅡ\n",
      "            event_timestamp  driver_id  ...  acc_rate  avg_daily_trips\n",
      "0 2021-08-02 05:00:00+00:00       1001  ...  0.925318              842\n",
      "1 2021-08-02 05:00:00+00:00       1002  ...  0.272748              699\n",
      "2 2021-08-02 05:00:00+00:00       1003  ...  0.651410              405\n",
      "3 2021-08-02 05:00:00+00:00       1004  ...  0.436958               20\n",
      "4 2021-08-02 06:00:00+00:00       1001  ...  0.200917              362\n",
      "5 2021-08-02 06:00:00+00:00       1002  ...  0.565963              343\n",
      "6 2021-08-02 06:00:00+00:00       1003  ...  0.421865              704\n",
      "7 2021-08-02 07:00:00+00:00       1001  ...  0.326638              233\n",
      "8 2021-08-02 07:00:00+00:00       1002  ...  0.340808              676\n",
      "9 2021-08-02 07:00:00+00:00       1003  ...  0.991286              503\n",
      "\n",
      "[10 rows x 6 columns]\n",
      "------------------------------------------------\n"
     ]
    },
    {
     "name": "stderr",
     "output_type": "stream",
     "text": [
      "/usr/local/lib/python3.7/dist-packages/ipykernel_launcher.py:12: SettingWithCopyWarning: \n",
      "A value is trying to be set on a copy of a slice from a DataFrame\n",
      "\n",
      "See the caveats in the documentation: https://pandas.pydata.org/pandas-docs/stable/user_guide/indexing.html#returning-a-view-versus-a-copy\n",
      "  if sys.path[0] == '':\n",
      "/usr/local/lib/python3.7/dist-packages/ipykernel_launcher.py:13: SettingWithCopyWarning: \n",
      "A value is trying to be set on a copy of a slice from a DataFrame\n",
      "\n",
      "See the caveats in the documentation: https://pandas.pydata.org/pandas-docs/stable/user_guide/indexing.html#returning-a-view-versus-a-copy\n",
      "  del sys.path[0]\n",
      "/usr/local/lib/python3.7/dist-packages/ipykernel_launcher.py:14: SettingWithCopyWarning: \n",
      "A value is trying to be set on a copy of a slice from a DataFrame\n",
      "\n",
      "See the caveats in the documentation: https://pandas.pydata.org/pandas-docs/stable/user_guide/indexing.html#returning-a-view-versus-a-copy\n",
      "  \n",
      "/usr/local/lib/python3.7/dist-packages/ipykernel_launcher.py:15: SettingWithCopyWarning: \n",
      "A value is trying to be set on a copy of a slice from a DataFrame\n",
      "\n",
      "See the caveats in the documentation: https://pandas.pydata.org/pandas-docs/stable/user_guide/indexing.html#returning-a-view-versus-a-copy\n",
      "  from ipykernel import kernelapp as app\n"
     ]
    },
    {
     "data": {
      "text/plain": [
       "['driver_model.bin']"
      ]
     },
     "execution_count": 187,
     "metadata": {
      "tags": []
     },
     "output_type": "execute_result"
    }
   ],
   "source": [
    "import feast\n",
    "from joblib import dump\n",
    "import pandas as pd\n",
    "from sklearn.linear_model import LinearRegression\n",
    "\n",
    "# Load driver order data\n",
    "orders = pd.read_csv(\"/content/feast_driver_ranking_tutorial/driver_orders.csv\", sep=\"\\t\")\n",
    "orders[\"event_timestamp\"] = pd.to_datetime(orders[\"event_timestamp\"])\n",
    "\n",
    "orders.sort_values(by=['driver_id'], inplace=True, ignore_index=True)\n",
    "\n",
    "orders['event_timestamp'][:3] = pq_[pq_['driver_id']==1001].iloc[:3].reset_index()['event_timestamp']\n",
    "orders['event_timestamp'][3:6] = pq_[pq_['driver_id']==1002].iloc[:3].reset_index()['event_timestamp']\n",
    "orders['event_timestamp'][6:9] = pq_[pq_['driver_id']==1003].iloc[:3].reset_index()['event_timestamp']\n",
    "orders['event_timestamp'][9:10] = pq_[pq_['driver_id']==1004].iloc[:1].reset_index()['event_timestamp']\n",
    "\n",
    "# Connect to your feature store provider\n",
    "fs = feast.FeatureStore(repo_path=\"/content/feast_driver_ranking_tutorial\")\n",
    "\n",
    "# Retrieve training data\n",
    "training_df = fs.get_historical_features(\n",
    "    entity_df=orders,\n",
    "    features=[\n",
    "        \"driver_hourly_stats:conv_rate\",\n",
    "        \"driver_hourly_stats:acc_rate\",\n",
    "        \"driver_hourly_stats:avg_daily_trips\",\n",
    "    ],\n",
    ").to_df()\n",
    "\n",
    "print(\"----- Feature schema -----\\n\")\n",
    "print(training_df.info())\n",
    "\n",
    "print()\n",
    "print(\"----- Example features -----\\n\")\n",
    "print(training_df.head())\n",
    "\n",
    "print('ㅡㅡㅡㅡㅡㅡㅡㅡㅡㅡㅡㅡㅡㅡㅡㅡㅡ')\n",
    "\n",
    "print(training_df)\n",
    "\n",
    "# Train model\n",
    "target = \"trip_completed\"\n",
    "\n",
    "print(\"------------------------------------------------\")\n",
    "reg = LinearRegression()\n",
    "train_X = training_df[training_df.columns.drop(target).drop(\"event_timestamp\")]\n",
    "train_Y = training_df.loc[:, target]\n",
    "\n",
    "reg.fit(train_X[sorted(train_X)], train_Y)\n",
    "\n",
    "# Save model\n",
    "dump(reg, \"driver_model.bin\")"
   ]
  },
  {
   "cell_type": "code",
   "execution_count": 102,
   "metadata": {
    "colab": {
     "base_uri": "https://localhost:8080/",
     "height": 363
    },
    "id": "q8MxEBnV2XAx",
    "outputId": "b14e66ca-05d0-4b6f-ad12-00adf9ce3820"
   },
   "outputs": [
    {
     "data": {
      "text/html": [
       "<div>\n",
       "<style scoped>\n",
       "    .dataframe tbody tr th:only-of-type {\n",
       "        vertical-align: middle;\n",
       "    }\n",
       "\n",
       "    .dataframe tbody tr th {\n",
       "        vertical-align: top;\n",
       "    }\n",
       "\n",
       "    .dataframe thead th {\n",
       "        text-align: right;\n",
       "    }\n",
       "</style>\n",
       "<table border=\"1\" class=\"dataframe\">\n",
       "  <thead>\n",
       "    <tr style=\"text-align: right;\">\n",
       "      <th></th>\n",
       "      <th>event_timestamp</th>\n",
       "      <th>driver_id</th>\n",
       "      <th>trip_completed</th>\n",
       "      <th>conv_rate</th>\n",
       "      <th>acc_rate</th>\n",
       "      <th>avg_daily_trips</th>\n",
       "    </tr>\n",
       "  </thead>\n",
       "  <tbody>\n",
       "    <tr>\n",
       "      <th>0</th>\n",
       "      <td>2021-08-02 05:00:00+00:00</td>\n",
       "      <td>1001</td>\n",
       "      <td>1</td>\n",
       "      <td>0.100542</td>\n",
       "      <td>0.925318</td>\n",
       "      <td>842</td>\n",
       "    </tr>\n",
       "    <tr>\n",
       "      <th>1</th>\n",
       "      <td>2021-08-02 05:00:00+00:00</td>\n",
       "      <td>1002</td>\n",
       "      <td>0</td>\n",
       "      <td>0.825244</td>\n",
       "      <td>0.272748</td>\n",
       "      <td>699</td>\n",
       "    </tr>\n",
       "    <tr>\n",
       "      <th>2</th>\n",
       "      <td>2021-08-02 05:00:00+00:00</td>\n",
       "      <td>1003</td>\n",
       "      <td>0</td>\n",
       "      <td>0.276608</td>\n",
       "      <td>0.651410</td>\n",
       "      <td>405</td>\n",
       "    </tr>\n",
       "    <tr>\n",
       "      <th>3</th>\n",
       "      <td>2021-08-02 05:00:00+00:00</td>\n",
       "      <td>1004</td>\n",
       "      <td>1</td>\n",
       "      <td>0.248437</td>\n",
       "      <td>0.436958</td>\n",
       "      <td>20</td>\n",
       "    </tr>\n",
       "    <tr>\n",
       "      <th>4</th>\n",
       "      <td>2021-08-02 06:00:00+00:00</td>\n",
       "      <td>1001</td>\n",
       "      <td>1</td>\n",
       "      <td>0.581363</td>\n",
       "      <td>0.200917</td>\n",
       "      <td>362</td>\n",
       "    </tr>\n",
       "    <tr>\n",
       "      <th>5</th>\n",
       "      <td>2021-08-02 06:00:00+00:00</td>\n",
       "      <td>1002</td>\n",
       "      <td>0</td>\n",
       "      <td>0.440703</td>\n",
       "      <td>0.565963</td>\n",
       "      <td>343</td>\n",
       "    </tr>\n",
       "    <tr>\n",
       "      <th>6</th>\n",
       "      <td>2021-08-02 06:00:00+00:00</td>\n",
       "      <td>1003</td>\n",
       "      <td>0</td>\n",
       "      <td>0.703562</td>\n",
       "      <td>0.421865</td>\n",
       "      <td>704</td>\n",
       "    </tr>\n",
       "    <tr>\n",
       "      <th>7</th>\n",
       "      <td>2021-08-02 07:00:00+00:00</td>\n",
       "      <td>1001</td>\n",
       "      <td>1</td>\n",
       "      <td>0.468566</td>\n",
       "      <td>0.326638</td>\n",
       "      <td>233</td>\n",
       "    </tr>\n",
       "    <tr>\n",
       "      <th>8</th>\n",
       "      <td>2021-08-02 07:00:00+00:00</td>\n",
       "      <td>1002</td>\n",
       "      <td>0</td>\n",
       "      <td>0.915024</td>\n",
       "      <td>0.340808</td>\n",
       "      <td>676</td>\n",
       "    </tr>\n",
       "    <tr>\n",
       "      <th>9</th>\n",
       "      <td>2021-08-02 07:00:00+00:00</td>\n",
       "      <td>1003</td>\n",
       "      <td>0</td>\n",
       "      <td>0.125337</td>\n",
       "      <td>0.991286</td>\n",
       "      <td>503</td>\n",
       "    </tr>\n",
       "  </tbody>\n",
       "</table>\n",
       "</div>"
      ],
      "text/plain": [
       "            event_timestamp  driver_id  ...  acc_rate  avg_daily_trips\n",
       "0 2021-08-02 05:00:00+00:00       1001  ...  0.925318              842\n",
       "1 2021-08-02 05:00:00+00:00       1002  ...  0.272748              699\n",
       "2 2021-08-02 05:00:00+00:00       1003  ...  0.651410              405\n",
       "3 2021-08-02 05:00:00+00:00       1004  ...  0.436958               20\n",
       "4 2021-08-02 06:00:00+00:00       1001  ...  0.200917              362\n",
       "5 2021-08-02 06:00:00+00:00       1002  ...  0.565963              343\n",
       "6 2021-08-02 06:00:00+00:00       1003  ...  0.421865              704\n",
       "7 2021-08-02 07:00:00+00:00       1001  ...  0.326638              233\n",
       "8 2021-08-02 07:00:00+00:00       1002  ...  0.340808              676\n",
       "9 2021-08-02 07:00:00+00:00       1003  ...  0.991286              503\n",
       "\n",
       "[10 rows x 6 columns]"
      ]
     },
     "execution_count": 102,
     "metadata": {
      "tags": []
     },
     "output_type": "execute_result"
    }
   ],
   "source": [
    "training_df"
   ]
  },
  {
   "cell_type": "markdown",
   "metadata": {
    "id": "HpHacyo47Are"
   },
   "source": [
    "## Step 6: Materialize your online store\n",
    "Change the provider field in `driver_ranking/feature_store.yam` from `local` to `gcp`\n",
    "\n",
    "Then apply and materialize data to Firestore"
   ]
  },
  {
   "cell_type": "code",
   "execution_count": 170,
   "metadata": {
    "colab": {
     "base_uri": "https://localhost:8080/"
    },
    "id": "67627WRSajIk",
    "outputId": "51804d9c-964e-4a8a-f345-e8ce938d5417"
   },
   "outputs": [
    {
     "name": "stdout",
     "output_type": "stream",
     "text": [
      "Materializing \u001b[1m\u001b[32m1\u001b[0m feature views to \u001b[1m\u001b[32m2022-01-01 00:00:00+00:00\u001b[0m into the \u001b[1m\u001b[32msqlite\u001b[0m online store.\n",
      "\n",
      "\u001b[1m\u001b[32mdriver_hourly_stats\u001b[0m from \u001b[1m\u001b[32m2022-01-01 00:00:00+00:00\u001b[0m to \u001b[1m\u001b[32m2022-01-01 00:00:00+00:00\u001b[0m:\n",
      "0it [00:00, ?it/s]\n"
     ]
    }
   ],
   "source": [
    "!cd /content/feast_driver_ranking_tutorial/ && feast materialize-incremental 2022-01-01T00:00:00"
   ]
  },
  {
   "cell_type": "code",
   "execution_count": 171,
   "metadata": {
    "colab": {
     "base_uri": "https://localhost:8080/"
    },
    "id": "iLurVIwR869L",
    "outputId": "58d65ac4-b5ca-4ccb-b233-43cc53a93b92"
   },
   "outputs": [
    {
     "name": "stdout",
     "output_type": "stream",
     "text": [
      "Materializing \u001b[1m\u001b[32m1\u001b[0m feature views from \u001b[1m\u001b[32m2021-01-01 00:00:00+00:00\u001b[0m to \u001b[1m\u001b[32m2022-01-01 00:00:00+00:00\u001b[0m into the \u001b[1m\u001b[32msqlite\u001b[0m online store.\n",
      "\n",
      "\u001b[1m\u001b[32mdriver_hourly_stats\u001b[0m:\n",
      "100%|████████████████████████████████████████████████████████████████| 5/5 [00:00<00:00, 406.18it/s]\n"
     ]
    }
   ],
   "source": [
    "!cd /content/feast_driver_ranking_tutorial/ && feast materialize 2021-01-01T00:00:00 2022-01-01T00:00:00"
   ]
  },
  {
   "cell_type": "markdown",
   "metadata": {
    "id": "-869cxQO2ana"
   },
   "source": [
    "### Step 7:  Make Prediction"
   ]
  },
  {
   "cell_type": "code",
   "execution_count": 161,
   "metadata": {
    "id": "VP85XeGFzNYl"
   },
   "outputs": [],
   "source": [
    "import pandas as pd\n",
    "import feast\n",
    "from joblib import load\n",
    "\n",
    "\n",
    "class DriverRankingModel:\n",
    "    def __init__(self):\n",
    "        # Load model\n",
    "        self.model = load(\"/content/driver_model.bin\")\n",
    "\n",
    "        # Set up feature store\n",
    "        self.fs = feast.FeatureStore(repo_path=\"/content/feast_driver_ranking_tutorial/\")\n",
    "\n",
    "    def predict(self, driver_ids):\n",
    "        # Read features from Feast\n",
    "        driver_features = self.fs.get_online_features(\n",
    "            entity_rows=[{\"driver_id\": driver_id} for driver_id in driver_ids],\n",
    "            features=[\n",
    "                \"driver_hourly_stats:conv_rate\",\n",
    "                \"driver_hourly_stats:acc_rate\",\n",
    "                \"driver_hourly_stats:avg_daily_trips\",\n",
    "                \"driver_hourly_stats:event_timestamp\"\n",
    "            ],\n",
    "        )\n",
    " \n",
    "        print(driver_features.to_dict())\n",
    "\n",
    "        print('  \\n  ')\n",
    "\n",
    "        df = pd.DataFrame.from_dict(driver_features.to_dict())\n",
    "        \n",
    "        print(df)\n",
    "\n",
    "        # Make prediction\n",
    "        df[\"prediction\"] = self.model.predict(df[sorted(df)])\n",
    "\n",
    "        print('  \\n  ')\n",
    "\n",
    "        print(df)\n",
    "\n",
    "        print('  \\n  ')\n",
    "\n",
    "\n",
    "        for i in range(4):\n",
    "          print(f\"drvier_id : {df['driver_id'][i]}, pred_ : {df['prediction'][i]}\")\n",
    "        # Choose best driver\n",
    "        best_driver_id = df[\"driver_id\"].iloc[df[\"prediction\"].argmax()]\n",
    "\n",
    "        # return best driver\n",
    "        return best_driver_id"
   ]
  },
  {
   "cell_type": "code",
   "execution_count": 162,
   "metadata": {
    "id": "f9AJ842Rk3E9"
   },
   "outputs": [],
   "source": [
    "def make_drivers_prediction():\n",
    "    drivers = [1001, 1002, 1003, 1004]\n",
    "    model = DriverRankingModel()\n",
    "    best_driver = model.predict(drivers)\n",
    "    print(f\"Prediction for best driver id: {best_driver}\")"
   ]
  },
  {
   "cell_type": "code",
   "execution_count": 172,
   "metadata": {
    "colab": {
     "base_uri": "https://localhost:8080/",
     "height": 423
    },
    "id": "l1Uh3-RZ8XcH",
    "outputId": "c227c9ae-c6db-4b27-b4d3-07e479c92631"
   },
   "outputs": [
    {
     "data": {
      "text/html": [
       "<div>\n",
       "<style scoped>\n",
       "    .dataframe tbody tr th:only-of-type {\n",
       "        vertical-align: middle;\n",
       "    }\n",
       "\n",
       "    .dataframe tbody tr th {\n",
       "        vertical-align: top;\n",
       "    }\n",
       "\n",
       "    .dataframe thead th {\n",
       "        text-align: right;\n",
       "    }\n",
       "</style>\n",
       "<table border=\"1\" class=\"dataframe\">\n",
       "  <thead>\n",
       "    <tr style=\"text-align: right;\">\n",
       "      <th></th>\n",
       "      <th>event_timestamp</th>\n",
       "      <th>driver_id</th>\n",
       "      <th>conv_rate</th>\n",
       "      <th>acc_rate</th>\n",
       "      <th>avg_daily_trips</th>\n",
       "      <th>created</th>\n",
       "    </tr>\n",
       "  </thead>\n",
       "  <tbody>\n",
       "    <tr>\n",
       "      <th>361</th>\n",
       "      <td>2021-08-02 05:00:00+00:00</td>\n",
       "      <td>1004</td>\n",
       "      <td>0.248437</td>\n",
       "      <td>0.436958</td>\n",
       "      <td>20</td>\n",
       "      <td>2021-08-17 05:30:48.077</td>\n",
       "    </tr>\n",
       "    <tr>\n",
       "      <th>362</th>\n",
       "      <td>2021-08-02 06:00:00+00:00</td>\n",
       "      <td>1004</td>\n",
       "      <td>0.774549</td>\n",
       "      <td>0.904169</td>\n",
       "      <td>955</td>\n",
       "      <td>2021-08-17 05:30:48.077</td>\n",
       "    </tr>\n",
       "    <tr>\n",
       "      <th>363</th>\n",
       "      <td>2021-08-02 07:00:00+00:00</td>\n",
       "      <td>1004</td>\n",
       "      <td>0.039977</td>\n",
       "      <td>0.038599</td>\n",
       "      <td>324</td>\n",
       "      <td>2021-08-17 05:30:48.077</td>\n",
       "    </tr>\n",
       "    <tr>\n",
       "      <th>364</th>\n",
       "      <td>2021-08-02 08:00:00+00:00</td>\n",
       "      <td>1004</td>\n",
       "      <td>0.838780</td>\n",
       "      <td>0.029421</td>\n",
       "      <td>909</td>\n",
       "      <td>2021-08-17 05:30:48.077</td>\n",
       "    </tr>\n",
       "    <tr>\n",
       "      <th>365</th>\n",
       "      <td>2021-08-02 09:00:00+00:00</td>\n",
       "      <td>1004</td>\n",
       "      <td>0.902637</td>\n",
       "      <td>0.291054</td>\n",
       "      <td>168</td>\n",
       "      <td>2021-08-17 05:30:48.077</td>\n",
       "    </tr>\n",
       "    <tr>\n",
       "      <th>...</th>\n",
       "      <td>...</td>\n",
       "      <td>...</td>\n",
       "      <td>...</td>\n",
       "      <td>...</td>\n",
       "      <td>...</td>\n",
       "      <td>...</td>\n",
       "    </tr>\n",
       "    <tr>\n",
       "      <th>1802</th>\n",
       "      <td>2021-08-17 03:00:00+00:00</td>\n",
       "      <td>1001</td>\n",
       "      <td>0.415600</td>\n",
       "      <td>0.694797</td>\n",
       "      <td>950</td>\n",
       "      <td>2021-08-17 05:30:48.077</td>\n",
       "    </tr>\n",
       "    <tr>\n",
       "      <th>1803</th>\n",
       "      <td>2021-08-17 04:00:00+00:00</td>\n",
       "      <td>1001</td>\n",
       "      <td>0.488006</td>\n",
       "      <td>0.294181</td>\n",
       "      <td>69</td>\n",
       "      <td>2021-08-17 05:30:48.077</td>\n",
       "    </tr>\n",
       "    <tr>\n",
       "      <th>1804</th>\n",
       "      <td>2021-04-12 07:00:00+00:00</td>\n",
       "      <td>1001</td>\n",
       "      <td>0.593042</td>\n",
       "      <td>0.283652</td>\n",
       "      <td>442</td>\n",
       "      <td>2021-08-17 05:30:48.077</td>\n",
       "    </tr>\n",
       "    <tr>\n",
       "      <th>1805</th>\n",
       "      <td>2021-08-09 17:00:00+00:00</td>\n",
       "      <td>1003</td>\n",
       "      <td>0.557066</td>\n",
       "      <td>0.894062</td>\n",
       "      <td>713</td>\n",
       "      <td>2021-08-17 05:30:48.077</td>\n",
       "    </tr>\n",
       "    <tr>\n",
       "      <th>1806</th>\n",
       "      <td>2021-08-09 17:00:00+00:00</td>\n",
       "      <td>1003</td>\n",
       "      <td>0.557066</td>\n",
       "      <td>0.894062</td>\n",
       "      <td>713</td>\n",
       "      <td>2021-08-17 05:30:48.077</td>\n",
       "    </tr>\n",
       "  </tbody>\n",
       "</table>\n",
       "<p>1446 rows × 6 columns</p>\n",
       "</div>"
      ],
      "text/plain": [
       "               event_timestamp  ...                 created\n",
       "361  2021-08-02 05:00:00+00:00  ... 2021-08-17 05:30:48.077\n",
       "362  2021-08-02 06:00:00+00:00  ... 2021-08-17 05:30:48.077\n",
       "363  2021-08-02 07:00:00+00:00  ... 2021-08-17 05:30:48.077\n",
       "364  2021-08-02 08:00:00+00:00  ... 2021-08-17 05:30:48.077\n",
       "365  2021-08-02 09:00:00+00:00  ... 2021-08-17 05:30:48.077\n",
       "...                        ...  ...                     ...\n",
       "1802 2021-08-17 03:00:00+00:00  ... 2021-08-17 05:30:48.077\n",
       "1803 2021-08-17 04:00:00+00:00  ... 2021-08-17 05:30:48.077\n",
       "1804 2021-04-12 07:00:00+00:00  ... 2021-08-17 05:30:48.077\n",
       "1805 2021-08-09 17:00:00+00:00  ... 2021-08-17 05:30:48.077\n",
       "1806 2021-08-09 17:00:00+00:00  ... 2021-08-17 05:30:48.077\n",
       "\n",
       "[1446 rows x 6 columns]"
      ]
     },
     "execution_count": 172,
     "metadata": {
      "tags": []
     },
     "output_type": "execute_result"
    }
   ],
   "source": [
    "new_pq_ = pq_[(pq_['driver_id'] ==1001) | (pq_['driver_id'] ==1002) | (pq_['driver_id'] ==1003) | (pq_['driver_id'] ==1004)]\n",
    "new_pq_"
   ]
  },
  {
   "cell_type": "code",
   "execution_count": 173,
   "metadata": {
    "colab": {
     "base_uri": "https://localhost:8080/",
     "height": 423
    },
    "id": "UCurNFqy9UbZ",
    "outputId": "3628d2d6-7dfc-48a6-8527-d740c4e1a013"
   },
   "outputs": [
    {
     "data": {
      "text/html": [
       "<div>\n",
       "<style scoped>\n",
       "    .dataframe tbody tr th:only-of-type {\n",
       "        vertical-align: middle;\n",
       "    }\n",
       "\n",
       "    .dataframe tbody tr th {\n",
       "        vertical-align: top;\n",
       "    }\n",
       "\n",
       "    .dataframe thead th {\n",
       "        text-align: right;\n",
       "    }\n",
       "</style>\n",
       "<table border=\"1\" class=\"dataframe\">\n",
       "  <thead>\n",
       "    <tr style=\"text-align: right;\">\n",
       "      <th></th>\n",
       "      <th>event_timestamp</th>\n",
       "      <th>driver_id</th>\n",
       "      <th>conv_rate</th>\n",
       "      <th>acc_rate</th>\n",
       "      <th>avg_daily_trips</th>\n",
       "      <th>created</th>\n",
       "    </tr>\n",
       "  </thead>\n",
       "  <tbody>\n",
       "    <tr>\n",
       "      <th>0</th>\n",
       "      <td>2021-04-12 07:00:00+00:00</td>\n",
       "      <td>1001</td>\n",
       "      <td>0.593042</td>\n",
       "      <td>0.283652</td>\n",
       "      <td>442</td>\n",
       "      <td>2021-08-17 05:30:48.077</td>\n",
       "    </tr>\n",
       "    <tr>\n",
       "      <th>1</th>\n",
       "      <td>2021-04-12 07:00:00+00:00</td>\n",
       "      <td>1002</td>\n",
       "      <td>0.451863</td>\n",
       "      <td>0.471993</td>\n",
       "      <td>24</td>\n",
       "      <td>2021-08-17 05:30:48.077</td>\n",
       "    </tr>\n",
       "    <tr>\n",
       "      <th>2</th>\n",
       "      <td>2021-04-12 07:00:00+00:00</td>\n",
       "      <td>1003</td>\n",
       "      <td>0.036765</td>\n",
       "      <td>0.824641</td>\n",
       "      <td>192</td>\n",
       "      <td>2021-08-17 05:30:48.077</td>\n",
       "    </tr>\n",
       "    <tr>\n",
       "      <th>3</th>\n",
       "      <td>2021-04-12 07:00:00+00:00</td>\n",
       "      <td>1004</td>\n",
       "      <td>0.612772</td>\n",
       "      <td>0.509554</td>\n",
       "      <td>737</td>\n",
       "      <td>2021-08-17 05:30:48.077</td>\n",
       "    </tr>\n",
       "    <tr>\n",
       "      <th>4</th>\n",
       "      <td>2021-08-02 05:00:00+00:00</td>\n",
       "      <td>1004</td>\n",
       "      <td>0.248437</td>\n",
       "      <td>0.436958</td>\n",
       "      <td>20</td>\n",
       "      <td>2021-08-17 05:30:48.077</td>\n",
       "    </tr>\n",
       "    <tr>\n",
       "      <th>...</th>\n",
       "      <td>...</td>\n",
       "      <td>...</td>\n",
       "      <td>...</td>\n",
       "      <td>...</td>\n",
       "      <td>...</td>\n",
       "      <td>...</td>\n",
       "    </tr>\n",
       "    <tr>\n",
       "      <th>1441</th>\n",
       "      <td>2021-08-17 03:00:00+00:00</td>\n",
       "      <td>1002</td>\n",
       "      <td>0.910113</td>\n",
       "      <td>0.911908</td>\n",
       "      <td>928</td>\n",
       "      <td>2021-08-17 05:30:48.077</td>\n",
       "    </tr>\n",
       "    <tr>\n",
       "      <th>1442</th>\n",
       "      <td>2021-08-17 04:00:00+00:00</td>\n",
       "      <td>1001</td>\n",
       "      <td>0.488006</td>\n",
       "      <td>0.294181</td>\n",
       "      <td>69</td>\n",
       "      <td>2021-08-17 05:30:48.077</td>\n",
       "    </tr>\n",
       "    <tr>\n",
       "      <th>1443</th>\n",
       "      <td>2021-08-17 04:00:00+00:00</td>\n",
       "      <td>1002</td>\n",
       "      <td>0.942232</td>\n",
       "      <td>0.733364</td>\n",
       "      <td>645</td>\n",
       "      <td>2021-08-17 05:30:48.077</td>\n",
       "    </tr>\n",
       "    <tr>\n",
       "      <th>1444</th>\n",
       "      <td>2021-08-17 04:00:00+00:00</td>\n",
       "      <td>1004</td>\n",
       "      <td>0.019139</td>\n",
       "      <td>0.452976</td>\n",
       "      <td>645</td>\n",
       "      <td>2021-08-17 05:30:48.077</td>\n",
       "    </tr>\n",
       "    <tr>\n",
       "      <th>1445</th>\n",
       "      <td>2021-08-17 04:00:00+00:00</td>\n",
       "      <td>1003</td>\n",
       "      <td>0.688366</td>\n",
       "      <td>0.255384</td>\n",
       "      <td>891</td>\n",
       "      <td>2021-08-17 05:30:48.077</td>\n",
       "    </tr>\n",
       "  </tbody>\n",
       "</table>\n",
       "<p>1446 rows × 6 columns</p>\n",
       "</div>"
      ],
      "text/plain": [
       "               event_timestamp  ...                 created\n",
       "0    2021-04-12 07:00:00+00:00  ... 2021-08-17 05:30:48.077\n",
       "1    2021-04-12 07:00:00+00:00  ... 2021-08-17 05:30:48.077\n",
       "2    2021-04-12 07:00:00+00:00  ... 2021-08-17 05:30:48.077\n",
       "3    2021-04-12 07:00:00+00:00  ... 2021-08-17 05:30:48.077\n",
       "4    2021-08-02 05:00:00+00:00  ... 2021-08-17 05:30:48.077\n",
       "...                        ...  ...                     ...\n",
       "1441 2021-08-17 03:00:00+00:00  ... 2021-08-17 05:30:48.077\n",
       "1442 2021-08-17 04:00:00+00:00  ... 2021-08-17 05:30:48.077\n",
       "1443 2021-08-17 04:00:00+00:00  ... 2021-08-17 05:30:48.077\n",
       "1444 2021-08-17 04:00:00+00:00  ... 2021-08-17 05:30:48.077\n",
       "1445 2021-08-17 04:00:00+00:00  ... 2021-08-17 05:30:48.077\n",
       "\n",
       "[1446 rows x 6 columns]"
      ]
     },
     "execution_count": 173,
     "metadata": {
      "tags": []
     },
     "output_type": "execute_result"
    }
   ],
   "source": [
    "new_pq_.sort_values(by=['event_timestamp'], ignore_index=True)"
   ]
  },
  {
   "cell_type": "code",
   "execution_count": 163,
   "metadata": {
    "colab": {
     "base_uri": "https://localhost:8080/"
    },
    "id": "lq2TNXfjbb8e",
    "outputId": "281795ce-82fb-4284-ea50-41e69740355d"
   },
   "outputs": [
    {
     "name": "stdout",
     "output_type": "stream",
     "text": [
      "{'acc_rate': [0.2941805422306061, 0.733363926410675, 0.25538429617881775, 0.4529760479927063], 'conv_rate': [0.4880056381225586, 0.9422317147254944, 0.6883655190467834, 0.019138963893055916], 'driver_id': [1001, 1002, 1003, 1004], 'avg_daily_trips': [69, 645, 891, 645]}\n",
      "  \n",
      "  \n",
      "   acc_rate  conv_rate  driver_id  avg_daily_trips\n",
      "0  0.294181   0.488006       1001               69\n",
      "1  0.733364   0.942232       1002              645\n",
      "2  0.255384   0.688366       1003              891\n",
      "3  0.452976   0.019139       1004              645\n",
      "  \n",
      "  \n",
      "   acc_rate  conv_rate  driver_id  avg_daily_trips  prediction\n",
      "0  0.294181   0.488006       1001               69    0.818146\n",
      "1  0.733364   0.942232       1002              645   -1.625998\n",
      "2  0.255384   0.688366       1003              891    0.722190\n",
      "3  0.452976   0.019139       1004              645    1.926919\n",
      "  \n",
      "  \n",
      "drvier_id : 1001, pred_ : 0.8181456325479246\n",
      "drvier_id : 1002, pred_ : -1.62599844818277\n",
      "drvier_id : 1003, pred_ : 0.7221897609262271\n",
      "drvier_id : 1004, pred_ : 1.9269192271620739\n",
      "Prediction for best driver id: 1004\n"
     ]
    }
   ],
   "source": [
    "make_drivers_prediction()"
   ]
  },
  {
   "cell_type": "code",
   "execution_count": null,
   "metadata": {
    "id": "XyGg9ytw0vQ9"
   },
   "outputs": [],
   "source": []
  }
 ],
 "metadata": {
  "colab": {
   "collapsed_sections": [],
   "name": "Driver_Ranking_Tutorial의_사본.ipynb",
   "provenance": []
  },
  "kernelspec": {
   "display_name": "Python 3",
   "language": "python",
   "name": "python3"
  },
  "language_info": {
   "codemirror_mode": {
    "name": "ipython",
    "version": 3
   },
   "file_extension": ".py",
   "mimetype": "text/x-python",
   "name": "python",
   "nbconvert_exporter": "python",
   "pygments_lexer": "ipython3",
   "version": "3.8.5"
  }
 },
 "nbformat": 4,
 "nbformat_minor": 4
}
