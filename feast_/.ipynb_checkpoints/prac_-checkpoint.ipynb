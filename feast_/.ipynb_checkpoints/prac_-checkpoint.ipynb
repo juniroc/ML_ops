{
 "cells": [
  {
   "cell_type": "code",
   "execution_count": 1,
   "id": "32d44d24-9741-499d-94c7-876b0c8003cc",
   "metadata": {},
   "outputs": [
    {
     "name": "stdout",
     "output_type": "stream",
     "text": [
      "Feast SDK Version: \"feast 0.12.0\"\n"
     ]
    }
   ],
   "source": [
    "!feast version "
   ]
  },
  {
   "cell_type": "code",
   "execution_count": 3,
   "id": "ecfe1414-0820-4256-a680-5a1edb6eeeb3",
   "metadata": {},
   "outputs": [
    {
     "name": "stdout",
     "output_type": "stream",
     "text": [
      "Microsoft Windows [Version 10.0.19043.1165]\n",
      "(c) Microsoft Corporation. All rights reserved.\n",
      "\n",
      "(base) C:\\Users\\lmj35\\Desktop\\Computer_Engineering\\feature_Store\\feast>pwd\n",
      "\n",
      "(base) C:\\Users\\lmj35\\Desktop\\Computer_Engineering\\feature_Store\\feast>\n",
      "(base) C:\\Users\\lmj35\\Desktop\\Computer_Engineering\\feature_Store\\feast>feast init feast_driver_ranking_tutorial\n",
      "\n",
      "Creating a new Feast repository in C:\\Users\\lmj35\\Desktop\\Computer_Engineering\\feature_Store\\feast\\feast_driver_ranking_tutorial.\n",
      "\n",
      "\n",
      "(base) C:\\Users\\lmj35\\Desktop\\Computer_Engineering\\feature_Store\\feast>"
     ]
    },
    {
     "name": "stderr",
     "output_type": "stream",
     "text": [
      "'pwd'은(는) 내부 또는 외부 명령, 실행할 수 있는 프로그램, 또는\n",
      "배치 파일이 아닙니다.\n"
     ]
    }
   ],
   "source": [
    "%%cmd\n",
    "pwd\n",
    "\n",
    "feast init feast_driver_ranking_tutorial"
   ]
  },
  {
   "cell_type": "code",
   "execution_count": null,
   "id": "8a70a239-dc38-4227-b3d8-f0cea22522a9",
   "metadata": {},
   "outputs": [],
   "source": []
  }
 ],
 "metadata": {
  "kernelspec": {
   "display_name": "Python 3",
   "language": "python",
   "name": "python3"
  },
  "language_info": {
   "codemirror_mode": {
    "name": "ipython",
    "version": 3
   },
   "file_extension": ".py",
   "mimetype": "text/x-python",
   "name": "python",
   "nbconvert_exporter": "python",
   "pygments_lexer": "ipython3",
   "version": "3.8.5"
  }
 },
 "nbformat": 4,
 "nbformat_minor": 5
}
